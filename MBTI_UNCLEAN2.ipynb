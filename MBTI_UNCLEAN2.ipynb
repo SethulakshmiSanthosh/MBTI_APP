{
  "cells": [
    {
      "cell_type": "code",
      "execution_count": 2,
      "metadata": {
        "colab": {
          "base_uri": "https://localhost:8080/"
        },
        "id": "8_n7aw1P-Psl",
        "outputId": "1e83022d-dfd7-49b7-c9af-51388ac3828f"
      },
      "outputs": [
        {
          "name": "stderr",
          "output_type": "stream",
          "text": [
            "[nltk_data] Downloading package stopwords to\n",
            "[nltk_data]     C:\\Users\\Sethu\\AppData\\Roaming\\nltk_data...\n",
            "[nltk_data]   Package stopwords is already up-to-date!\n"
          ]
        }
      ],
      "source": [
        "# importing dependencies here\n",
        "import numpy as np\n",
        "import pandas as pd\n",
        "import os\n",
        "\n",
        "# for splitting data into training and holdout dataset\n",
        "from sklearn.model_selection import train_test_split\n",
        "\n",
        "# visualizations\n",
        "import seaborn as sns\n",
        "import matplotlib.pyplot as plt\n",
        "\n",
        "# cleaning and dropping stop words\n",
        "import re\n",
        "import nltk\n",
        "from nltk.corpus import stopwords\n",
        "\n",
        "nltk.download(\"stopwords\")\n",
        "\n",
        "# lemmitizing\n",
        "from nltk.stem import WordNetLemmatizer\n",
        "\n",
        "# performance check\n",
        "import time\n"
      ]
    },
    {
      "cell_type": "code",
      "execution_count": 3,
      "metadata": {
        "id": "PZ4ecxhf_Lp1"
      },
      "outputs": [],
      "source": [
        "# reading the dataset\n",
        "# df = pd.read_csv(os.path.join(\"..\", \"data\", \"mbti_unclean.csv\"))\n",
        "\n",
        "from pandas import read_csv\n",
        "\n",
        "url = './mbti_unclean.csv'\n",
        "data = pd.read_csv(url)\n",
        "\n",
        "df = pd.DataFrame(data)\n",
        "\n",
        "# splitting data into training and holdout dataset\n",
        "personality_data, df_holdout = train_test_split(\n",
        "    df, random_state=42, test_size=0.01, stratify=df[\"type\"]\n",
        ")\n",
        "\n",
        "# saving the training and holdout datasets\n",
        "personality_data.to_csv('personality_data.csv', index=False)\n",
        "df_holdout.to_csv('df_holdout.csv', index=False)\n",
        "              \n",
        "##################################################################"
      ]
    },
    {
      "cell_type": "code",
      "execution_count": 4,
      "metadata": {
        "id": "D44NLvZR_sLJ"
      },
      "outputs": [],
      "source": [
        "# reading the dataset that will be used for training and testing the model\n",
        "personality_data = pd.read_csv('personality_data.csv')"
      ]
    },
    {
      "cell_type": "code",
      "execution_count": 5,
      "metadata": {
        "colab": {
          "base_uri": "https://localhost:8080/",
          "height": 206
        },
        "id": "1u6RDOw-_xee",
        "outputId": "c58a9c9c-4763-4f70-9a88-463aa5134665"
      },
      "outputs": [
        {
          "data": {
            "text/html": [
              "<div>\n",
              "<style scoped>\n",
              "    .dataframe tbody tr th:only-of-type {\n",
              "        vertical-align: middle;\n",
              "    }\n",
              "\n",
              "    .dataframe tbody tr th {\n",
              "        vertical-align: top;\n",
              "    }\n",
              "\n",
              "    .dataframe thead th {\n",
              "        text-align: right;\n",
              "    }\n",
              "</style>\n",
              "<table border=\"1\" class=\"dataframe\">\n",
              "  <thead>\n",
              "    <tr style=\"text-align: right;\">\n",
              "      <th></th>\n",
              "      <th>type</th>\n",
              "      <th>posts</th>\n",
              "    </tr>\n",
              "  </thead>\n",
              "  <tbody>\n",
              "    <tr>\n",
              "      <th>0</th>\n",
              "      <td>INFP</td>\n",
              "      <td>'I do too!  I think this one will be touching ...</td>\n",
              "    </tr>\n",
              "    <tr>\n",
              "      <th>1</th>\n",
              "      <td>INFJ</td>\n",
              "      <td>'we may be known as the most extroverted type ...</td>\n",
              "    </tr>\n",
              "    <tr>\n",
              "      <th>2</th>\n",
              "      <td>INTJ</td>\n",
              "      <td>'Yeah god forbid I call him out on mimicking m...</td>\n",
              "    </tr>\n",
              "    <tr>\n",
              "      <th>3</th>\n",
              "      <td>INFJ</td>\n",
              "      <td>'Im looking forward to having a few of my own....</td>\n",
              "    </tr>\n",
              "    <tr>\n",
              "      <th>4</th>\n",
              "      <td>INFP</td>\n",
              "      <td>'I hope you know that you are my best friend i...</td>\n",
              "    </tr>\n",
              "  </tbody>\n",
              "</table>\n",
              "</div>"
            ],
            "text/plain": [
              "   type                                              posts\n",
              "0  INFP  'I do too!  I think this one will be touching ...\n",
              "1  INFJ  'we may be known as the most extroverted type ...\n",
              "2  INTJ  'Yeah god forbid I call him out on mimicking m...\n",
              "3  INFJ  'Im looking forward to having a few of my own....\n",
              "4  INFP  'I hope you know that you are my best friend i..."
            ]
          },
          "execution_count": 5,
          "metadata": {},
          "output_type": "execute_result"
        }
      ],
      "source": [
        "# looking at the top 5 rows of the dataset\n",
        "personality_data.head()"
      ]
    },
    {
      "cell_type": "code",
      "execution_count": 6,
      "metadata": {
        "colab": {
          "base_uri": "https://localhost:8080/"
        },
        "id": "iuC9h8FjSMPg",
        "outputId": "64e81ae2-fcb3-4d95-c900-896d889ae038"
      },
      "outputs": [
        {
          "data": {
            "text/plain": [
              "type     0\n",
              "posts    0\n",
              "dtype: int64"
            ]
          },
          "execution_count": 6,
          "metadata": {},
          "output_type": "execute_result"
        }
      ],
      "source": [
        "# checking for missing values\n",
        "personality_data.isnull().sum()"
      ]
    },
    {
      "cell_type": "code",
      "execution_count": 7,
      "metadata": {
        "colab": {
          "base_uri": "https://localhost:8080/",
          "height": 354
        },
        "id": "uzFBl3zHSRBe",
        "outputId": "2d6dd5fb-3c7d-4f3a-ecf8-a19b08da8846"
      },
      "outputs": [
        {
          "data": {
            "text/html": [
              "<div>\n",
              "<style scoped>\n",
              "    .dataframe tbody tr th:only-of-type {\n",
              "        vertical-align: middle;\n",
              "    }\n",
              "\n",
              "    .dataframe tbody tr th {\n",
              "        vertical-align: top;\n",
              "    }\n",
              "\n",
              "    .dataframe thead th {\n",
              "        text-align: right;\n",
              "    }\n",
              "</style>\n",
              "<table border=\"1\" class=\"dataframe\">\n",
              "  <thead>\n",
              "    <tr style=\"text-align: right;\">\n",
              "      <th></th>\n",
              "      <th>type</th>\n",
              "      <th>is_Extrovert</th>\n",
              "      <th>is_Sensing</th>\n",
              "      <th>is_Thinking</th>\n",
              "      <th>is_Judging</th>\n",
              "      <th>posts</th>\n",
              "    </tr>\n",
              "  </thead>\n",
              "  <tbody>\n",
              "    <tr>\n",
              "      <th>0</th>\n",
              "      <td>INFP</td>\n",
              "      <td>0</td>\n",
              "      <td>0</td>\n",
              "      <td>0</td>\n",
              "      <td>0</td>\n",
              "      <td>'I do too!  I think this one will be touching ...</td>\n",
              "    </tr>\n",
              "    <tr>\n",
              "      <th>1</th>\n",
              "      <td>INFJ</td>\n",
              "      <td>0</td>\n",
              "      <td>0</td>\n",
              "      <td>0</td>\n",
              "      <td>1</td>\n",
              "      <td>'we may be known as the most extroverted type ...</td>\n",
              "    </tr>\n",
              "    <tr>\n",
              "      <th>2</th>\n",
              "      <td>INTJ</td>\n",
              "      <td>0</td>\n",
              "      <td>0</td>\n",
              "      <td>1</td>\n",
              "      <td>1</td>\n",
              "      <td>'Yeah god forbid I call him out on mimicking m...</td>\n",
              "    </tr>\n",
              "    <tr>\n",
              "      <th>3</th>\n",
              "      <td>INFJ</td>\n",
              "      <td>0</td>\n",
              "      <td>0</td>\n",
              "      <td>0</td>\n",
              "      <td>1</td>\n",
              "      <td>'Im looking forward to having a few of my own....</td>\n",
              "    </tr>\n",
              "    <tr>\n",
              "      <th>4</th>\n",
              "      <td>INFP</td>\n",
              "      <td>0</td>\n",
              "      <td>0</td>\n",
              "      <td>0</td>\n",
              "      <td>0</td>\n",
              "      <td>'I hope you know that you are my best friend i...</td>\n",
              "    </tr>\n",
              "  </tbody>\n",
              "</table>\n",
              "</div>"
            ],
            "text/plain": [
              "   type  is_Extrovert  is_Sensing  is_Thinking  is_Judging  \\\n",
              "0  INFP             0           0            0           0   \n",
              "1  INFJ             0           0            0           1   \n",
              "2  INTJ             0           0            1           1   \n",
              "3  INFJ             0           0            0           1   \n",
              "4  INFP             0           0            0           0   \n",
              "\n",
              "                                               posts  \n",
              "0  'I do too!  I think this one will be touching ...  \n",
              "1  'we may be known as the most extroverted type ...  \n",
              "2  'Yeah god forbid I call him out on mimicking m...  \n",
              "3  'Im looking forward to having a few of my own....  \n",
              "4  'I hope you know that you are my best friend i...  "
            ]
          },
          "execution_count": 7,
          "metadata": {},
          "output_type": "execute_result"
        }
      ],
      "source": [
        "# to handle the class imbalance better, converting the 16 classes into 4 more balanced classes\n",
        "\n",
        "personality_data[\"is_Extrovert\"] = personality_data[\"type\"].apply(\n",
        "    lambda x: 1 if x[0] == \"E\" else 0\n",
        ")\n",
        "personality_data[\"is_Sensing\"] = personality_data[\"type\"].apply(\n",
        "    lambda x: 1 if x[1] == \"S\" else 0\n",
        ")\n",
        "personality_data[\"is_Thinking\"] = personality_data[\"type\"].apply(\n",
        "    lambda x: 1 if x[2] == \"T\" else 0\n",
        ")\n",
        "personality_data[\"is_Judging\"] = personality_data[\"type\"].apply(\n",
        "    lambda x: 1 if x[3] == \"J\" else 0\n",
        ")\n",
        "\n",
        "# rearranging the dataframe columns\n",
        "personality_data = personality_data[\n",
        "    [\"type\", \"is_Extrovert\", \"is_Sensing\", \"is_Thinking\", \"is_Judging\", \"posts\"]\n",
        "]\n",
        "personality_data.head()"
      ]
    },
    {
      "cell_type": "code",
      "execution_count": 8,
      "metadata": {
        "id": "o0MJZ9sjSR49"
      },
      "outputs": [],
      "source": [
        "# checking individual counts\n",
        "introvert_count = personality_data[\"is_Extrovert\"].value_counts()[0]\n",
        "extrovert_count = personality_data[\"is_Extrovert\"].value_counts()[1]\n",
        "\n",
        "intuition_count = personality_data[\"is_Sensing\"].value_counts()[0]\n",
        "sensing_count = personality_data[\"is_Sensing\"].value_counts()[1]\n",
        "\n",
        "feeling_count = personality_data[\"is_Thinking\"].value_counts()[0]\n",
        "thinking_count = personality_data[\"is_Thinking\"].value_counts()[1]\n",
        "\n",
        "perceiving_count = personality_data[\"is_Judging\"].value_counts()[0]\n",
        "judging_count = personality_data[\"is_Judging\"].value_counts()[1]"
      ]
    },
    {
      "cell_type": "code",
      "execution_count": 9,
      "metadata": {
        "id": "2sj5cpJuSZmx"
      },
      "outputs": [],
      "source": [
        "# converting posts into lower case\n",
        "personality_data[\"clean_posts\"] = personality_data[\"posts\"].str.lower()\n",
        "\n",
        "# replacing ||| with space\n",
        "personality_data[\"clean_posts\"] = personality_data[\"clean_posts\"].str.replace(\n",
        "    re.compile(r\"\\|\\|\\|\"), \" \"\n",
        ")\n",
        "\n",
        "personality_data[\"clean_posts\"] = personality_data[\"clean_posts\"].str.replace(\n",
        "    re.compile(r\"https?:\\/\\/(www)?.?([A-Za-z_0-9-]+)([\\S])*\"), \"\"\n",
        ")\n",
        "\n",
        "# dropping emails\n",
        "personality_data[\"clean_posts\"] = personality_data[\"clean_posts\"].str.replace(\n",
        "    re.compile(r\"\\S+@\\S+\"), \"\"\n",
        ")\n",
        "\n",
        "# dropping punctuations\n",
        "personality_data[\"clean_posts\"] = personality_data[\"clean_posts\"].str.replace(\n",
        "    re.compile(r\"[^a-z\\s]\"), \" \"\n",
        ")\n",
        "\n",
        "# dropping MBTIs mentioned in the posts. There are quite a few mention of these types in these posts.\n",
        "mbti = personality_data[\"type\"].unique()\n",
        "for type_word in mbti:\n",
        "    personality_data[\"clean_posts\"] = personality_data[\"clean_posts\"].str.replace(\n",
        "        type_word.lower(), \"\"\n",
        "    )"
      ]
    },
    {
      "cell_type": "code",
      "execution_count": 10,
      "metadata": {
        "colab": {
          "base_uri": "https://localhost:8080/",
          "height": 617
        },
        "id": "aqHexuu7SdYa",
        "outputId": "28e38d59-1416-4a61-b1c2-3318a71742a8"
      },
      "outputs": [
        {
          "data": {
            "text/html": [
              "<div>\n",
              "<style scoped>\n",
              "    .dataframe tbody tr th:only-of-type {\n",
              "        vertical-align: middle;\n",
              "    }\n",
              "\n",
              "    .dataframe tbody tr th {\n",
              "        vertical-align: top;\n",
              "    }\n",
              "\n",
              "    .dataframe thead th {\n",
              "        text-align: right;\n",
              "    }\n",
              "</style>\n",
              "<table border=\"1\" class=\"dataframe\">\n",
              "  <thead>\n",
              "    <tr style=\"text-align: right;\">\n",
              "      <th></th>\n",
              "      <th>type</th>\n",
              "      <th>is_Extrovert</th>\n",
              "      <th>is_Sensing</th>\n",
              "      <th>is_Thinking</th>\n",
              "      <th>is_Judging</th>\n",
              "      <th>posts</th>\n",
              "      <th>clean_posts</th>\n",
              "    </tr>\n",
              "  </thead>\n",
              "  <tbody>\n",
              "    <tr>\n",
              "      <th>0</th>\n",
              "      <td>INFP</td>\n",
              "      <td>0</td>\n",
              "      <td>0</td>\n",
              "      <td>0</td>\n",
              "      <td>0</td>\n",
              "      <td>'I do too!  I think this one will be touching ...</td>\n",
              "      <td>i do too   i think this one will be touching ...</td>\n",
              "    </tr>\n",
              "    <tr>\n",
              "      <th>1</th>\n",
              "      <td>INFJ</td>\n",
              "      <td>0</td>\n",
              "      <td>0</td>\n",
              "      <td>0</td>\n",
              "      <td>1</td>\n",
              "      <td>'we may be known as the most extroverted type ...</td>\n",
              "      <td>we may be known as the most extroverted type ...</td>\n",
              "    </tr>\n",
              "    <tr>\n",
              "      <th>2</th>\n",
              "      <td>INTJ</td>\n",
              "      <td>0</td>\n",
              "      <td>0</td>\n",
              "      <td>1</td>\n",
              "      <td>1</td>\n",
              "      <td>'Yeah god forbid I call him out on mimicking m...</td>\n",
              "      <td>yeah god forbid i call him out on mimicking m...</td>\n",
              "    </tr>\n",
              "    <tr>\n",
              "      <th>3</th>\n",
              "      <td>INFJ</td>\n",
              "      <td>0</td>\n",
              "      <td>0</td>\n",
              "      <td>0</td>\n",
              "      <td>1</td>\n",
              "      <td>'Im looking forward to having a few of my own....</td>\n",
              "      <td>im looking forward to having a few of my own ...</td>\n",
              "    </tr>\n",
              "    <tr>\n",
              "      <th>4</th>\n",
              "      <td>INFP</td>\n",
              "      <td>0</td>\n",
              "      <td>0</td>\n",
              "      <td>0</td>\n",
              "      <td>0</td>\n",
              "      <td>'I hope you know that you are my best friend i...</td>\n",
              "      <td>i hope you know that you are my best friend i...</td>\n",
              "    </tr>\n",
              "  </tbody>\n",
              "</table>\n",
              "</div>"
            ],
            "text/plain": [
              "   type  is_Extrovert  is_Sensing  is_Thinking  is_Judging  \\\n",
              "0  INFP             0           0            0           0   \n",
              "1  INFJ             0           0            0           1   \n",
              "2  INTJ             0           0            1           1   \n",
              "3  INFJ             0           0            0           1   \n",
              "4  INFP             0           0            0           0   \n",
              "\n",
              "                                               posts  \\\n",
              "0  'I do too!  I think this one will be touching ...   \n",
              "1  'we may be known as the most extroverted type ...   \n",
              "2  'Yeah god forbid I call him out on mimicking m...   \n",
              "3  'Im looking forward to having a few of my own....   \n",
              "4  'I hope you know that you are my best friend i...   \n",
              "\n",
              "                                         clean_posts  \n",
              "0   i do too   i think this one will be touching ...  \n",
              "1   we may be known as the most extroverted type ...  \n",
              "2   yeah god forbid i call him out on mimicking m...  \n",
              "3   im looking forward to having a few of my own ...  \n",
              "4   i hope you know that you are my best friend i...  "
            ]
          },
          "execution_count": 10,
          "metadata": {},
          "output_type": "execute_result"
        }
      ],
      "source": [
        "personality_data.head()\n"
      ]
    },
    {
      "cell_type": "code",
      "execution_count": 11,
      "metadata": {
        "colab": {
          "base_uri": "https://localhost:8080/",
          "height": 634
        },
        "id": "lQSgHsAdSgaL",
        "outputId": "b4deea25-9a04-4e5d-8540-dbb0e3f6eeb7"
      },
      "outputs": [
        {
          "name": "stderr",
          "output_type": "stream",
          "text": [
            "[nltk_data] Downloading package wordnet to\n",
            "[nltk_data]     C:\\Users\\Sethu\\AppData\\Roaming\\nltk_data...\n",
            "[nltk_data]   Package wordnet is already up-to-date!\n"
          ]
        },
        {
          "data": {
            "text/html": [
              "<div>\n",
              "<style scoped>\n",
              "    .dataframe tbody tr th:only-of-type {\n",
              "        vertical-align: middle;\n",
              "    }\n",
              "\n",
              "    .dataframe tbody tr th {\n",
              "        vertical-align: top;\n",
              "    }\n",
              "\n",
              "    .dataframe thead th {\n",
              "        text-align: right;\n",
              "    }\n",
              "</style>\n",
              "<table border=\"1\" class=\"dataframe\">\n",
              "  <thead>\n",
              "    <tr style=\"text-align: right;\">\n",
              "      <th></th>\n",
              "      <th>type</th>\n",
              "      <th>is_Extrovert</th>\n",
              "      <th>is_Sensing</th>\n",
              "      <th>is_Thinking</th>\n",
              "      <th>is_Judging</th>\n",
              "      <th>posts</th>\n",
              "      <th>clean_posts</th>\n",
              "    </tr>\n",
              "  </thead>\n",
              "  <tbody>\n",
              "    <tr>\n",
              "      <th>0</th>\n",
              "      <td>INFP</td>\n",
              "      <td>0</td>\n",
              "      <td>0</td>\n",
              "      <td>0</td>\n",
              "      <td>0</td>\n",
              "      <td>'I do too!  I think this one will be touching ...</td>\n",
              "      <td>think one touching       realised kind turn...</td>\n",
              "    </tr>\n",
              "    <tr>\n",
              "      <th>1</th>\n",
              "      <td>INFJ</td>\n",
              "      <td>0</td>\n",
              "      <td>0</td>\n",
              "      <td>0</td>\n",
              "      <td>1</td>\n",
              "      <td>'we may be known as the most extroverted type ...</td>\n",
              "      <td>may known extroverted type introvert also kno...</td>\n",
              "    </tr>\n",
              "    <tr>\n",
              "      <th>2</th>\n",
              "      <td>INTJ</td>\n",
              "      <td>0</td>\n",
              "      <td>0</td>\n",
              "      <td>1</td>\n",
              "      <td>1</td>\n",
              "      <td>'Yeah god forbid I call him out on mimicking m...</td>\n",
              "      <td>yeah god forbid call mimicking never fes  per...</td>\n",
              "    </tr>\n",
              "    <tr>\n",
              "      <th>3</th>\n",
              "      <td>INFJ</td>\n",
              "      <td>0</td>\n",
              "      <td>0</td>\n",
              "      <td>0</td>\n",
              "      <td>1</td>\n",
              "      <td>'Im looking forward to having a few of my own....</td>\n",
              "      <td>looking forward  love niece joy brings famil...</td>\n",
              "    </tr>\n",
              "    <tr>\n",
              "      <th>4</th>\n",
              "      <td>INFP</td>\n",
              "      <td>0</td>\n",
              "      <td>0</td>\n",
              "      <td>0</td>\n",
              "      <td>0</td>\n",
              "      <td>'I hope you know that you are my best friend i...</td>\n",
              "      <td>hope know best friend world  never met anyone...</td>\n",
              "    </tr>\n",
              "  </tbody>\n",
              "</table>\n",
              "</div>"
            ],
            "text/plain": [
              "   type  is_Extrovert  is_Sensing  is_Thinking  is_Judging  \\\n",
              "0  INFP             0           0            0           0   \n",
              "1  INFJ             0           0            0           1   \n",
              "2  INTJ             0           0            1           1   \n",
              "3  INFJ             0           0            0           1   \n",
              "4  INFP             0           0            0           0   \n",
              "\n",
              "                                               posts  \\\n",
              "0  'I do too!  I think this one will be touching ...   \n",
              "1  'we may be known as the most extroverted type ...   \n",
              "2  'Yeah god forbid I call him out on mimicking m...   \n",
              "3  'Im looking forward to having a few of my own....   \n",
              "4  'I hope you know that you are my best friend i...   \n",
              "\n",
              "                                         clean_posts  \n",
              "0     think one touching       realised kind turn...  \n",
              "1   may known extroverted type introvert also kno...  \n",
              "2   yeah god forbid call mimicking never fes  per...  \n",
              "3    looking forward  love niece joy brings famil...  \n",
              "4   hope know best friend world  never met anyone...  "
            ]
          },
          "execution_count": 11,
          "metadata": {},
          "output_type": "execute_result"
        }
      ],
      "source": [
        "# lemmitizing (excluding stop words in this step)\n",
        "\n",
        "nltk.download('wordnet')\n",
        "\n",
        "t = time.time()\n",
        "\n",
        "lemmatizer = WordNetLemmatizer()\n",
        "\n",
        "personality_data[\"clean_posts\"] = personality_data[\"clean_posts\"].apply(\n",
        "    lambda x: \" \".join(\n",
        "        [\n",
        "            lemmatizer.lemmatize(word)\n",
        "            for word in x.split(\" \")\n",
        "            if word not in stopwords.words(\"english\")\n",
        "        ]\n",
        "    )\n",
        ")\n",
        "\n",
        "\n",
        "personality_data[\"clean_posts\"] = personality_data[\"clean_posts\"].str.replace(\n",
        "    re.compile(r\"\\b\\w{1,2}\\b\"), \"\"\n",
        ")\n",
        "\n",
        "# checking the cleaned and lemmitized data\n",
        "personality_data.head() "
      ]
    },
    {
      "cell_type": "code",
      "execution_count": 12,
      "metadata": {
        "colab": {
          "base_uri": "https://localhost:8080/"
        },
        "id": "2yHon8utSv8-",
        "outputId": "3d81271c-910e-485c-d257-b656037f4adc"
      },
      "outputs": [
        {
          "name": "stdout",
          "output_type": "stream",
          "text": [
            "Requirement already satisfied: vaderSentiment in c:\\users\\sethu\\appdata\\local\\programs\\python\\python311\\lib\\site-packages (3.3.2)\n",
            "Requirement already satisfied: requests in c:\\users\\sethu\\appdata\\local\\programs\\python\\python311\\lib\\site-packages (from vaderSentiment) (2.28.2)\n",
            "Requirement already satisfied: charset-normalizer<4,>=2 in c:\\users\\sethu\\appdata\\local\\programs\\python\\python311\\lib\\site-packages (from requests->vaderSentiment) (3.0.1)\n",
            "Requirement already satisfied: idna<4,>=2.5 in c:\\users\\sethu\\appdata\\local\\programs\\python\\python311\\lib\\site-packages (from requests->vaderSentiment) (3.4)\n",
            "Requirement already satisfied: urllib3<1.27,>=1.21.1 in c:\\users\\sethu\\appdata\\local\\programs\\python\\python311\\lib\\site-packages (from requests->vaderSentiment) (1.26.14)\n",
            "Requirement already satisfied: certifi>=2017.4.17 in c:\\users\\sethu\\appdata\\local\\programs\\python\\python311\\lib\\site-packages (from requests->vaderSentiment) (2022.12.7)\n"
          ]
        }
      ],
      "source": [
        "# importing dependencies here\n",
        "import numpy as np\n",
        "import pandas as pd\n",
        "import os\n",
        "\n",
        "# feature engineering\n",
        "import re\n",
        "\n",
        "# pos tagging\n",
        "import nltk\n",
        "from nltk.tokenize import word_tokenize, sent_tokenize\n",
        "!pip install vaderSentiment\n",
        "# sentiment scoring\n",
        "from vaderSentiment.vaderSentiment import SentimentIntensityAnalyzer\n",
        "\n",
        "# scaling to handle negative values in sentiment scores (for Naive Bayes)\n",
        "from sklearn.preprocessing import MinMaxScaler\n",
        "\n",
        "# performance check\n",
        "import time\n"
      ]
    },
    {
      "cell_type": "code",
      "execution_count": 13,
      "metadata": {
        "colab": {
          "base_uri": "https://localhost:8080/"
        },
        "id": "nnL0kPqKTWXx",
        "outputId": "fd417b3e-a488-4905-a367-a5cd29bff3c9"
      },
      "outputs": [
        {
          "name": "stdout",
          "output_type": "stream",
          "text": [
            "Sentiment Scoring Time: 390.45 seconds\n"
          ]
        }
      ],
      "source": [
        "# sentiment scoring for each user\n",
        "t = time.time()\n",
        "\n",
        "analyzer = SentimentIntensityAnalyzer()\n",
        "\n",
        "nlp_sentiment_score = []\n",
        "\n",
        "for post in personality_data[\"clean_posts\"]:\n",
        "    score = analyzer.polarity_scores(post)\n",
        "    nlp_sentiment_score.append(score)\n",
        "\n",
        "print(f\"Sentiment Scoring Time: {time.time() - t:.2f} seconds\")"
      ]
    },
    {
      "cell_type": "code",
      "execution_count": 14,
      "metadata": {
        "id": "pYL47LUxTai7"
      },
      "outputs": [],
      "source": [
        "# segregating the indiviual sentiment scores - compound, positive, negative and neutral\n",
        "personality_data[\"compound_sentiment\"] = [\n",
        "    score[\"compound\"] for score in nlp_sentiment_score\n",
        "]\n",
        "personality_data[\"pos_sentiment\"] = [score[\"pos\"] for score in nlp_sentiment_score]\n",
        "personality_data[\"neg_sentiment\"] = [score[\"neg\"] for score in nlp_sentiment_score]\n",
        "personality_data[\"neu_sentiment\"] = [score[\"neu\"] for score in nlp_sentiment_score]"
      ]
    },
    {
      "cell_type": "code",
      "execution_count": 15,
      "metadata": {
        "id": "CLXFcBtNTdk8"
      },
      "outputs": [],
      "source": [
        "# Sentiment scores have negative values that Naive Bayes can't handle. So scaling it.\n",
        "\n",
        "min_max_scaler = MinMaxScaler()\n",
        "personality_data[\"compound_sentiment\"] = min_max_scaler.fit_transform(\n",
        "    np.array(personality_data[\"compound_sentiment\"]).reshape(-1, 1)\n",
        ")\n",
        "personality_data[\"pos_sentiment\"] = min_max_scaler.fit_transform(\n",
        "    np.array(personality_data[\"pos_sentiment\"]).reshape(-1, 1)\n",
        ")\n",
        "personality_data[\"neg_sentiment\"] = min_max_scaler.fit_transform(\n",
        "    np.array(personality_data[\"neg_sentiment\"]).reshape(-1, 1)\n",
        ")\n",
        "personality_data[\"neu_sentiment\"] = min_max_scaler.fit_transform(\n",
        "    np.array(personality_data[\"neu_sentiment\"]).reshape(-1, 1)\n",
        ")"
      ]
    },
    {
      "cell_type": "code",
      "execution_count": 16,
      "metadata": {
        "colab": {
          "base_uri": "https://localhost:8080/"
        },
        "id": "xnsum9tCTgfr",
        "outputId": "d9fb9e58-e007-46d1-ff9c-093d2274c808"
      },
      "outputs": [
        {
          "data": {
            "text/plain": [
              "type                  0\n",
              "is_Extrovert          0\n",
              "is_Sensing            0\n",
              "is_Thinking           0\n",
              "is_Judging            0\n",
              "posts                 0\n",
              "clean_posts           0\n",
              "compound_sentiment    0\n",
              "pos_sentiment         0\n",
              "neg_sentiment         0\n",
              "neu_sentiment         0\n",
              "dtype: int64"
            ]
          },
          "execution_count": 16,
          "metadata": {},
          "output_type": "execute_result"
        }
      ],
      "source": [
        "# checking to see if sentiment scores introduced any null value\n",
        "personality_data.isnull().sum()"
      ]
    },
    {
      "cell_type": "code",
      "execution_count": 17,
      "metadata": {
        "id": "3rxOkhj4TjEA"
      },
      "outputs": [],
      "source": [
        "# creating tag_posts column that will have each post as a separate list in a row. tag_posts will be a list of 50 lists.\n",
        "\n",
        "# replacing urls with domain name\n",
        "personality_data[\"tag_posts\"] = personality_data[\"posts\"].str.replace(\n",
        "    re.compile(r\"https?:\\/\\/(www)?.?([A-Za-z_0-9-]+)([\\S])*\"),\n",
        "    lambda match: match.group(2),\n",
        ")\n",
        "\n",
        "# replacing ||| with space\n",
        "personality_data[\"tag_posts\"] = [\n",
        "    post for post in personality_data[\"tag_posts\"].str.split(\"\\|\\|\\|\")\n",
        "]"
      ]
    },
    {
      "cell_type": "code",
      "execution_count": 18,
      "metadata": {
        "colab": {
          "base_uri": "https://localhost:8080/"
        },
        "id": "S5qR9_NhTnKh",
        "outputId": "44e3600b-62b5-4038-933b-fe7f1f232bee"
      },
      "outputs": [
        {
          "name": "stderr",
          "output_type": "stream",
          "text": [
            "[nltk_data] Downloading package punkt to\n",
            "[nltk_data]     C:\\Users\\Sethu\\AppData\\Roaming\\nltk_data...\n",
            "[nltk_data]   Package punkt is already up-to-date!\n",
            "[nltk_data] Downloading package averaged_perceptron_tagger to\n",
            "[nltk_data]     C:\\Users\\Sethu\\AppData\\Roaming\\nltk_data...\n",
            "[nltk_data]   Package averaged_perceptron_tagger is already up-to-\n",
            "[nltk_data]       date!\n"
          ]
        },
        {
          "name": "stdout",
          "output_type": "stream",
          "text": [
            "POS Tagging Time: 1360.3252913951874 seconds\n"
          ]
        }
      ],
      "source": [
        "# parts of speech tagging for each word\n",
        "t = time.time()\n",
        "nltk.download('punkt')\n",
        "nltk.download('averaged_perceptron_tagger')\n",
        "\n",
        "personality_data[\"tagged_words\"] = personality_data[\"tag_posts\"].apply(\n",
        "    lambda x: [nltk.pos_tag(word_tokenize(line)) for line in x]\n",
        ")\n",
        "\n",
        "print(f\"POS Tagging Time: {time.time() - t} seconds\")"
      ]
    },
    {
      "cell_type": "code",
      "execution_count": 19,
      "metadata": {
        "id": "p5s8GeqRTrNa"
      },
      "outputs": [
        {
          "name": "stderr",
          "output_type": "stream",
          "text": [
            "C:\\Users\\Sethu\\AppData\\Local\\Temp\\ipykernel_40268\\2273190258.py:4: FutureWarning: iteritems is deprecated and will be removed in a future version. Use .items instead.\n",
            "  for i, data in personality_data[\"tagged_words\"].iteritems():\n"
          ]
        }
      ],
      "source": [
        "# creating list of unique POS tags\n",
        "tag_set = set()\n",
        "\n",
        "for i, data in personality_data[\"tagged_words\"].iteritems():\n",
        "    for tup in data[0]:\n",
        "        tag_set.add(tup[1])\n",
        "\n",
        "tag_list = list(tag_set)"
      ]
    },
    {
      "cell_type": "code",
      "execution_count": 20,
      "metadata": {
        "colab": {
          "base_uri": "https://localhost:8080/"
        },
        "id": "catFonefTuvN",
        "outputId": "0abb112d-8b87-4423-c421-73cf97693355"
      },
      "outputs": [
        {
          "name": "stdout",
          "output_type": "stream",
          "text": [
            "POS Stats Time: 138.1005895137787 seconds\n"
          ]
        }
      ],
      "source": [
        "# calculating mean and standard deviation of pos tags for each user\n",
        "t = time.time()\n",
        "\n",
        "\n",
        "def pos_cat(x, tag):\n",
        "    return [len([y for y in line if y[1] == tag]) for line in x]\n",
        "\n",
        "\n",
        "for col in tag_list:\n",
        "    personality_data[\"POS_\" + col + \"_mean\"] = personality_data[\"tagged_words\"].apply(\n",
        "        lambda x: np.mean(pos_cat(x, col))\n",
        "    )\n",
        "    personality_data[\"POS_\" + col + \"_std\"] = personality_data[\"tagged_words\"].apply(\n",
        "        lambda x: np.std(pos_cat(x, col))\n",
        "    )\n",
        "\n",
        "print(f\"POS Stats Time: {time.time() - t} seconds\")"
      ]
    },
    {
      "cell_type": "code",
      "execution_count": 21,
      "metadata": {
        "id": "oEZJXK_YTxoE"
      },
      "outputs": [],
      "source": [
        "# grouping pos tags based on stanford list\n",
        "tags_dict = {\n",
        "    \"ADJ\": [\"JJ\", \"JJR\", \"JJS\"],\n",
        "    \"ADP\": [\"EX\", \"TO\"],\n",
        "    \"ADV\": [\"RB\", \"RBR\", \"RBS\", \"WRB\"],\n",
        "    \"CONJ\": [\"CC\", \"IN\"],\n",
        "    \"DET\": [\"DT\", \"PDT\", \"WDT\"],\n",
        "    \"NOUN\": [\"NN\", \"NNS\", \"NNP\", \"NNPS\"],\n",
        "    \"NUM\": [\"CD\"],\n",
        "    \"PRT\": [\"RP\"],\n",
        "    \"PRON\": [\"PRP\", \"PRP$\", \"WP\", \"WP$\"],\n",
        "    \"VERB\": [\"MD\", \"VB\", \"VBD\", \"VBG\", \"VBN\", \"VBP\", \"VBZ\"],\n",
        "    \".\": [\"#\", \"$\", \"''\", \"(\", \")\", \",\", \".\", \":\"],\n",
        "    \"X\": [\"FW\", \"LS\", \"UH\"],\n",
        "}"
      ]
    },
    {
      "cell_type": "code",
      "execution_count": 22,
      "metadata": {
        "colab": {
          "base_uri": "https://localhost:8080/"
        },
        "id": "8YHY-Z-TT0SJ",
        "outputId": "1aec3923-a7f6-4c62-aa05-e7e701502602"
      },
      "outputs": [
        {
          "name": "stderr",
          "output_type": "stream",
          "text": [
            "C:\\Users\\Sethu\\AppData\\Local\\Temp\\ipykernel_40268\\2397153783.py:11: PerformanceWarning: DataFrame is highly fragmented.  This is usually the result of calling `frame.insert` many times, which has poor performance.  Consider joining all columns at once using pd.concat(axis=1) instead. To get a de-fragmented frame, use `newframe = frame.copy()`\n",
            "  personality_data[col + \"_avg\"] = personality_data[\"tagged_words\"].apply(\n",
            "C:\\Users\\Sethu\\AppData\\Local\\Temp\\ipykernel_40268\\2397153783.py:11: PerformanceWarning: DataFrame is highly fragmented.  This is usually the result of calling `frame.insert` many times, which has poor performance.  Consider joining all columns at once using pd.concat(axis=1) instead. To get a de-fragmented frame, use `newframe = frame.copy()`\n",
            "  personality_data[col + \"_avg\"] = personality_data[\"tagged_words\"].apply(\n",
            "C:\\Users\\Sethu\\AppData\\Local\\Temp\\ipykernel_40268\\2397153783.py:11: PerformanceWarning: DataFrame is highly fragmented.  This is usually the result of calling `frame.insert` many times, which has poor performance.  Consider joining all columns at once using pd.concat(axis=1) instead. To get a de-fragmented frame, use `newframe = frame.copy()`\n",
            "  personality_data[col + \"_avg\"] = personality_data[\"tagged_words\"].apply(\n",
            "C:\\Users\\Sethu\\AppData\\Local\\Temp\\ipykernel_40268\\2397153783.py:11: PerformanceWarning: DataFrame is highly fragmented.  This is usually the result of calling `frame.insert` many times, which has poor performance.  Consider joining all columns at once using pd.concat(axis=1) instead. To get a de-fragmented frame, use `newframe = frame.copy()`\n",
            "  personality_data[col + \"_avg\"] = personality_data[\"tagged_words\"].apply(\n",
            "C:\\Users\\Sethu\\AppData\\Local\\Temp\\ipykernel_40268\\2397153783.py:11: PerformanceWarning: DataFrame is highly fragmented.  This is usually the result of calling `frame.insert` many times, which has poor performance.  Consider joining all columns at once using pd.concat(axis=1) instead. To get a de-fragmented frame, use `newframe = frame.copy()`\n",
            "  personality_data[col + \"_avg\"] = personality_data[\"tagged_words\"].apply(\n",
            "C:\\Users\\Sethu\\AppData\\Local\\Temp\\ipykernel_40268\\2397153783.py:11: PerformanceWarning: DataFrame is highly fragmented.  This is usually the result of calling `frame.insert` many times, which has poor performance.  Consider joining all columns at once using pd.concat(axis=1) instead. To get a de-fragmented frame, use `newframe = frame.copy()`\n",
            "  personality_data[col + \"_avg\"] = personality_data[\"tagged_words\"].apply(\n",
            "C:\\Users\\Sethu\\AppData\\Local\\Temp\\ipykernel_40268\\2397153783.py:11: PerformanceWarning: DataFrame is highly fragmented.  This is usually the result of calling `frame.insert` many times, which has poor performance.  Consider joining all columns at once using pd.concat(axis=1) instead. To get a de-fragmented frame, use `newframe = frame.copy()`\n",
            "  personality_data[col + \"_avg\"] = personality_data[\"tagged_words\"].apply(\n",
            "C:\\Users\\Sethu\\AppData\\Local\\Temp\\ipykernel_40268\\2397153783.py:11: PerformanceWarning: DataFrame is highly fragmented.  This is usually the result of calling `frame.insert` many times, which has poor performance.  Consider joining all columns at once using pd.concat(axis=1) instead. To get a de-fragmented frame, use `newframe = frame.copy()`\n",
            "  personality_data[col + \"_avg\"] = personality_data[\"tagged_words\"].apply(\n",
            "C:\\Users\\Sethu\\AppData\\Local\\Temp\\ipykernel_40268\\2397153783.py:11: PerformanceWarning: DataFrame is highly fragmented.  This is usually the result of calling `frame.insert` many times, which has poor performance.  Consider joining all columns at once using pd.concat(axis=1) instead. To get a de-fragmented frame, use `newframe = frame.copy()`\n",
            "  personality_data[col + \"_avg\"] = personality_data[\"tagged_words\"].apply(\n",
            "C:\\Users\\Sethu\\AppData\\Local\\Temp\\ipykernel_40268\\2397153783.py:11: PerformanceWarning: DataFrame is highly fragmented.  This is usually the result of calling `frame.insert` many times, which has poor performance.  Consider joining all columns at once using pd.concat(axis=1) instead. To get a de-fragmented frame, use `newframe = frame.copy()`\n",
            "  personality_data[col + \"_avg\"] = personality_data[\"tagged_words\"].apply(\n"
          ]
        },
        {
          "name": "stdout",
          "output_type": "stream",
          "text": [
            "Stanford POS Stats Time: 29.444096565246582 seconds\n"
          ]
        },
        {
          "name": "stderr",
          "output_type": "stream",
          "text": [
            "C:\\Users\\Sethu\\AppData\\Local\\Temp\\ipykernel_40268\\2397153783.py:11: PerformanceWarning: DataFrame is highly fragmented.  This is usually the result of calling `frame.insert` many times, which has poor performance.  Consider joining all columns at once using pd.concat(axis=1) instead. To get a de-fragmented frame, use `newframe = frame.copy()`\n",
            "  personality_data[col + \"_avg\"] = personality_data[\"tagged_words\"].apply(\n"
          ]
        }
      ],
      "source": [
        "# Stanford POS tag stats\n",
        "t = time.time()\n",
        "\n",
        "\n",
        "def stanford_tag(x, tag):\n",
        "    tags_list = [len([y for y in line if y[1] in tags_dict[col]]) for line in x]\n",
        "    return tags_list\n",
        "\n",
        "\n",
        "for col in tags_dict.keys():\n",
        "    personality_data[col + \"_avg\"] = personality_data[\"tagged_words\"].apply(\n",
        "        lambda x: np.median(stanford_tag(x, col))\n",
        "    )\n",
        "\n",
        "print(f\"Stanford POS Stats Time: {time.time() - t} seconds\")"
      ]
    },
    {
      "cell_type": "code",
      "execution_count": 23,
      "metadata": {
        "colab": {
          "base_uri": "https://localhost:8080/",
          "height": 344
        },
        "id": "StYvUFzLT2RO",
        "outputId": "626503c6-6948-49d7-e150-71158a7dcf5c"
      },
      "outputs": [
        {
          "data": {
            "text/html": [
              "<div>\n",
              "<style scoped>\n",
              "    .dataframe tbody tr th:only-of-type {\n",
              "        vertical-align: middle;\n",
              "    }\n",
              "\n",
              "    .dataframe tbody tr th {\n",
              "        vertical-align: top;\n",
              "    }\n",
              "\n",
              "    .dataframe thead th {\n",
              "        text-align: right;\n",
              "    }\n",
              "</style>\n",
              "<table border=\"1\" class=\"dataframe\">\n",
              "  <thead>\n",
              "    <tr style=\"text-align: right;\">\n",
              "      <th></th>\n",
              "      <th>type</th>\n",
              "      <th>is_Extrovert</th>\n",
              "      <th>is_Sensing</th>\n",
              "      <th>is_Thinking</th>\n",
              "      <th>is_Judging</th>\n",
              "      <th>posts</th>\n",
              "      <th>clean_posts</th>\n",
              "      <th>compound_sentiment</th>\n",
              "      <th>pos_sentiment</th>\n",
              "      <th>neg_sentiment</th>\n",
              "      <th>...</th>\n",
              "      <th>ADV_avg</th>\n",
              "      <th>CONJ_avg</th>\n",
              "      <th>DET_avg</th>\n",
              "      <th>NOUN_avg</th>\n",
              "      <th>NUM_avg</th>\n",
              "      <th>PRT_avg</th>\n",
              "      <th>PRON_avg</th>\n",
              "      <th>VERB_avg</th>\n",
              "      <th>._avg</th>\n",
              "      <th>X_avg</th>\n",
              "    </tr>\n",
              "  </thead>\n",
              "  <tbody>\n",
              "    <tr>\n",
              "      <th>0</th>\n",
              "      <td>INFP</td>\n",
              "      <td>0</td>\n",
              "      <td>0</td>\n",
              "      <td>0</td>\n",
              "      <td>0</td>\n",
              "      <td>'I do too!  I think this one will be touching ...</td>\n",
              "      <td>think one touching       realised kind turn...</td>\n",
              "      <td>0.992748</td>\n",
              "      <td>0.297333</td>\n",
              "      <td>0.366755</td>\n",
              "      <td>...</td>\n",
              "      <td>2.0</td>\n",
              "      <td>4.0</td>\n",
              "      <td>2.0</td>\n",
              "      <td>5.0</td>\n",
              "      <td>0.0</td>\n",
              "      <td>0.0</td>\n",
              "      <td>4.0</td>\n",
              "      <td>7.0</td>\n",
              "      <td>4.0</td>\n",
              "      <td>0.0</td>\n",
              "    </tr>\n",
              "    <tr>\n",
              "      <th>1</th>\n",
              "      <td>INFJ</td>\n",
              "      <td>0</td>\n",
              "      <td>0</td>\n",
              "      <td>0</td>\n",
              "      <td>1</td>\n",
              "      <td>'we may be known as the most extroverted type ...</td>\n",
              "      <td>may known extroverted type introvert also kno...</td>\n",
              "      <td>0.999650</td>\n",
              "      <td>0.416000</td>\n",
              "      <td>0.248021</td>\n",
              "      <td>...</td>\n",
              "      <td>2.0</td>\n",
              "      <td>5.0</td>\n",
              "      <td>3.0</td>\n",
              "      <td>9.0</td>\n",
              "      <td>0.0</td>\n",
              "      <td>0.0</td>\n",
              "      <td>3.0</td>\n",
              "      <td>7.0</td>\n",
              "      <td>5.0</td>\n",
              "      <td>0.0</td>\n",
              "    </tr>\n",
              "  </tbody>\n",
              "</table>\n",
              "<p>2 rows × 115 columns</p>\n",
              "</div>"
            ],
            "text/plain": [
              "   type  is_Extrovert  is_Sensing  is_Thinking  is_Judging  \\\n",
              "0  INFP             0           0            0           0   \n",
              "1  INFJ             0           0            0           1   \n",
              "\n",
              "                                               posts  \\\n",
              "0  'I do too!  I think this one will be touching ...   \n",
              "1  'we may be known as the most extroverted type ...   \n",
              "\n",
              "                                         clean_posts  compound_sentiment  \\\n",
              "0     think one touching       realised kind turn...            0.992748   \n",
              "1   may known extroverted type introvert also kno...            0.999650   \n",
              "\n",
              "   pos_sentiment  neg_sentiment  ...  ADV_avg CONJ_avg DET_avg  NOUN_avg  \\\n",
              "0       0.297333       0.366755  ...      2.0      4.0     2.0       5.0   \n",
              "1       0.416000       0.248021  ...      2.0      5.0     3.0       9.0   \n",
              "\n",
              "   NUM_avg  PRT_avg  PRON_avg  VERB_avg  ._avg  X_avg  \n",
              "0      0.0      0.0       4.0       7.0    4.0    0.0  \n",
              "1      0.0      0.0       3.0       7.0    5.0    0.0  \n",
              "\n",
              "[2 rows x 115 columns]"
            ]
          },
          "execution_count": 23,
          "metadata": {},
          "output_type": "execute_result"
        }
      ],
      "source": [
        "# a quick look at the data\n",
        "personality_data.head(2)"
      ]
    },
    {
      "cell_type": "code",
      "execution_count": 24,
      "metadata": {
        "id": "19m1H0lRT42W"
      },
      "outputs": [],
      "source": [
        "# importing dependencies here\n",
        "import numpy as np\n",
        "import pandas as pd\n",
        "import os\n",
        "\n",
        "# feature engineering\n",
        "import re\n",
        "import nltk\n",
        "\n",
        "# vectorization\n",
        "from sklearn.feature_extraction.text import CountVectorizer\n",
        "from sklearn.feature_extraction.text import TfidfVectorizer\n",
        "\n",
        "# performance check\n",
        "import time"
      ]
    },
    {
      "cell_type": "code",
      "execution_count": 25,
      "metadata": {
        "id": "vtHEYx7AUnI-"
      },
      "outputs": [],
      "source": [
        "def unique_words(s):\n",
        "    unique = set(s.split(\" \"))\n",
        "    return len(unique) / 50\n",
        "\n",
        "\n",
        "def emojis(post):\n",
        "    # does not include emojis made purely from symbols, only :word:\n",
        "    emoji_count = 0\n",
        "    words = post.split()\n",
        "    for e in words:\n",
        "        if \"http\" not in e:\n",
        "            if e.count(\":\") == 2:\n",
        "                emoji_count += 1\n",
        "    return emoji_count / 50\n",
        "\n",
        "\n",
        "def colons(post):\n",
        "    # Includes colons used in emojis\n",
        "    colon_count = 0\n",
        "    words = post.split()\n",
        "    for e in words:\n",
        "        if \"http\" not in e:\n",
        "            colon_count += e.count(\":\")\n",
        "    return colon_count / 50"
      ]
    },
    {
      "cell_type": "code",
      "execution_count": 26,
      "metadata": {
        "colab": {
          "base_uri": "https://localhost:8080/"
        },
        "id": "SYMseUh-UsGc",
        "outputId": "a4919d46-09d9-4588-83de-f58fb43d72c8"
      },
      "outputs": [
        {
          "name": "stderr",
          "output_type": "stream",
          "text": [
            "C:\\Users\\Sethu\\AppData\\Local\\Temp\\ipykernel_40268\\1076527448.py:1: PerformanceWarning: DataFrame is highly fragmented.  This is usually the result of calling `frame.insert` many times, which has poor performance.  Consider joining all columns at once using pd.concat(axis=1) instead. To get a de-fragmented frame, use `newframe = frame.copy()`\n",
            "  personality_data[\"word_count\"] = personality_data[\"posts\"].apply(\n",
            "C:\\Users\\Sethu\\AppData\\Local\\Temp\\ipykernel_40268\\1076527448.py:4: PerformanceWarning: DataFrame is highly fragmented.  This is usually the result of calling `frame.insert` many times, which has poor performance.  Consider joining all columns at once using pd.concat(axis=1) instead. To get a de-fragmented frame, use `newframe = frame.copy()`\n",
            "  personality_data[\"unique_words\"] = personality_data[\"posts\"].apply(unique_words)\n"
          ]
        }
      ],
      "source": [
        "personality_data[\"word_count\"] = personality_data[\"posts\"].apply(\n",
        "    lambda s: (s.count(\" \") + 1) / 50\n",
        ")\n",
        "personality_data[\"unique_words\"] = personality_data[\"posts\"].apply(unique_words)"
      ]
    },
    {
      "cell_type": "code",
      "execution_count": 27,
      "metadata": {
        "colab": {
          "base_uri": "https://localhost:8080/"
        },
        "id": "1XnpgeNwUugo",
        "outputId": "2a6418c3-b602-47cf-99b6-c6cee1cbba4f"
      },
      "outputs": [
        {
          "name": "stdout",
          "output_type": "stream",
          "text": [
            "Time Taken: 1.2248985767364502\n"
          ]
        },
        {
          "name": "stderr",
          "output_type": "stream",
          "text": [
            "C:\\Users\\Sethu\\AppData\\Local\\Temp\\ipykernel_40268\\1323153256.py:7: PerformanceWarning: DataFrame is highly fragmented.  This is usually the result of calling `frame.insert` many times, which has poor performance.  Consider joining all columns at once using pd.concat(axis=1) instead. To get a de-fragmented frame, use `newframe = frame.copy()`\n",
            "  personality_data[\"post_length_var\"] = personality_data[\"posts\"].apply(\n"
          ]
        }
      ],
      "source": [
        "# stats\n",
        "\n",
        "t = time.time()\n",
        "\n",
        "# personality_data[\"avg_word_ct\"] = personality_data[\"word_count\"].apply(lambda s: s / 50)\n",
        "\n",
        "personality_data[\"post_length_var\"] = personality_data[\"posts\"].apply(\n",
        "    lambda x: np.var([len(post.split()) for post in x.split(\"|||\")])\n",
        ")\n",
        "\n",
        "print(f\"Time Taken: {time.time() - t}\")"
      ]
    },
    {
      "cell_type": "code",
      "execution_count": 28,
      "metadata": {
        "colab": {
          "base_uri": "https://localhost:8080/"
        },
        "id": "FH97GXrQUxFO",
        "outputId": "f9dd768c-94c2-46fe-d2b5-63955c5fc158"
      },
      "outputs": [
        {
          "name": "stderr",
          "output_type": "stream",
          "text": [
            "C:\\Users\\Sethu\\AppData\\Local\\Temp\\ipykernel_40268\\669604230.py:1: PerformanceWarning: DataFrame is highly fragmented.  This is usually the result of calling `frame.insert` many times, which has poor performance.  Consider joining all columns at once using pd.concat(axis=1) instead. To get a de-fragmented frame, use `newframe = frame.copy()`\n",
            "  personality_data[\"upper\"] = personality_data[\"posts\"].apply(\n"
          ]
        }
      ],
      "source": [
        "personality_data[\"upper\"] = personality_data[\"posts\"].apply(\n",
        "    lambda x: len([x for x in x.split() if x.isupper()]) / 50\n",
        ")"
      ]
    },
    {
      "cell_type": "code",
      "execution_count": 29,
      "metadata": {
        "colab": {
          "base_uri": "https://localhost:8080/"
        },
        "id": "bzWno8ZsUy9i",
        "outputId": "a68ea178-81c2-4d67-b427-fabd595d9d7d"
      },
      "outputs": [
        {
          "name": "stderr",
          "output_type": "stream",
          "text": [
            "C:\\Users\\Sethu\\AppData\\Local\\Temp\\ipykernel_40268\\2209410155.py:1: PerformanceWarning: DataFrame is highly fragmented.  This is usually the result of calling `frame.insert` many times, which has poor performance.  Consider joining all columns at once using pd.concat(axis=1) instead. To get a de-fragmented frame, use `newframe = frame.copy()`\n",
            "  personality_data[\"link_count\"] = personality_data[\"posts\"].apply(\n"
          ]
        }
      ],
      "source": [
        "personality_data[\"link_count\"] = personality_data[\"posts\"].apply(\n",
        "    lambda s: s.count(\"http\") / 50\n",
        ")"
      ]
    },
    {
      "cell_type": "code",
      "execution_count": 30,
      "metadata": {
        "colab": {
          "base_uri": "https://localhost:8080/"
        },
        "id": "oxkSTKJYU3yq",
        "outputId": "3e29acf8-1d26-43bd-a128-8dbd813d24b0"
      },
      "outputs": [
        {
          "name": "stderr",
          "output_type": "stream",
          "text": [
            "C:\\Users\\Sethu\\AppData\\Local\\Temp\\ipykernel_40268\\1557003147.py:4: PerformanceWarning: DataFrame is highly fragmented.  This is usually the result of calling `frame.insert` many times, which has poor performance.  Consider joining all columns at once using pd.concat(axis=1) instead. To get a de-fragmented frame, use `newframe = frame.copy()`\n",
            "  personality_data[\"ellipses\"] = ellipses_count\n"
          ]
        }
      ],
      "source": [
        "ellipses_count = [\n",
        "    len(re.findall(r\"\\.\\.\\.\\ \", posts)) / 50 for posts in personality_data[\"posts\"]\n",
        "]\n",
        "personality_data[\"ellipses\"] = ellipses_count"
      ]
    },
    {
      "cell_type": "code",
      "execution_count": 31,
      "metadata": {
        "colab": {
          "base_uri": "https://localhost:8080/"
        },
        "id": "F858rZRiU4bk",
        "outputId": "96ef6a90-947a-4cdf-b827-2ea1cce639b9"
      },
      "outputs": [
        {
          "name": "stderr",
          "output_type": "stream",
          "text": [
            "C:\\Users\\Sethu\\AppData\\Local\\Temp\\ipykernel_40268\\2026867936.py:1: PerformanceWarning: DataFrame is highly fragmented.  This is usually the result of calling `frame.insert` many times, which has poor performance.  Consider joining all columns at once using pd.concat(axis=1) instead. To get a de-fragmented frame, use `newframe = frame.copy()`\n",
            "  personality_data[\"img_count\"] = [\n"
          ]
        }
      ],
      "source": [
        "personality_data[\"img_count\"] = [\n",
        "    len(re.findall(r\"(\\.jpg)|(\\.jpeg)|(\\.gif)|(\\.png)\", post)) / 50\n",
        "    for post in personality_data[\"posts\"]\n",
        "]"
      ]
    },
    {
      "cell_type": "code",
      "execution_count": 32,
      "metadata": {
        "colab": {
          "base_uri": "https://localhost:8080/",
          "height": 344
        },
        "id": "cMFUTzayU6tp",
        "outputId": "dbe41908-2233-4b92-87e6-50bf77b429ce"
      },
      "outputs": [
        {
          "data": {
            "text/html": [
              "<div>\n",
              "<style scoped>\n",
              "    .dataframe tbody tr th:only-of-type {\n",
              "        vertical-align: middle;\n",
              "    }\n",
              "\n",
              "    .dataframe tbody tr th {\n",
              "        vertical-align: top;\n",
              "    }\n",
              "\n",
              "    .dataframe thead th {\n",
              "        text-align: right;\n",
              "    }\n",
              "</style>\n",
              "<table border=\"1\" class=\"dataframe\">\n",
              "  <thead>\n",
              "    <tr style=\"text-align: right;\">\n",
              "      <th></th>\n",
              "      <th>type</th>\n",
              "      <th>is_Extrovert</th>\n",
              "      <th>is_Sensing</th>\n",
              "      <th>is_Thinking</th>\n",
              "      <th>is_Judging</th>\n",
              "      <th>posts</th>\n",
              "      <th>clean_posts</th>\n",
              "      <th>compound_sentiment</th>\n",
              "      <th>pos_sentiment</th>\n",
              "      <th>neg_sentiment</th>\n",
              "      <th>...</th>\n",
              "      <th>VERB_avg</th>\n",
              "      <th>._avg</th>\n",
              "      <th>X_avg</th>\n",
              "      <th>word_count</th>\n",
              "      <th>unique_words</th>\n",
              "      <th>post_length_var</th>\n",
              "      <th>upper</th>\n",
              "      <th>link_count</th>\n",
              "      <th>ellipses</th>\n",
              "      <th>img_count</th>\n",
              "    </tr>\n",
              "  </thead>\n",
              "  <tbody>\n",
              "    <tr>\n",
              "      <th>0</th>\n",
              "      <td>INFP</td>\n",
              "      <td>0</td>\n",
              "      <td>0</td>\n",
              "      <td>0</td>\n",
              "      <td>0</td>\n",
              "      <td>'I do too!  I think this one will be touching ...</td>\n",
              "      <td>think one touching       realised kind turn...</td>\n",
              "      <td>0.992748</td>\n",
              "      <td>0.297333</td>\n",
              "      <td>0.366755</td>\n",
              "      <td>...</td>\n",
              "      <td>7.0</td>\n",
              "      <td>4.0</td>\n",
              "      <td>0.0</td>\n",
              "      <td>23.04</td>\n",
              "      <td>11.06</td>\n",
              "      <td>164.410000</td>\n",
              "      <td>0.80</td>\n",
              "      <td>0.18</td>\n",
              "      <td>0.02</td>\n",
              "      <td>0.06</td>\n",
              "    </tr>\n",
              "    <tr>\n",
              "      <th>1</th>\n",
              "      <td>INFJ</td>\n",
              "      <td>0</td>\n",
              "      <td>0</td>\n",
              "      <td>0</td>\n",
              "      <td>1</td>\n",
              "      <td>'we may be known as the most extroverted type ...</td>\n",
              "      <td>may known extroverted type introvert also kno...</td>\n",
              "      <td>0.999650</td>\n",
              "      <td>0.416000</td>\n",
              "      <td>0.248021</td>\n",
              "      <td>...</td>\n",
              "      <td>7.0</td>\n",
              "      <td>5.0</td>\n",
              "      <td>0.0</td>\n",
              "      <td>25.00</td>\n",
              "      <td>12.14</td>\n",
              "      <td>175.479025</td>\n",
              "      <td>0.18</td>\n",
              "      <td>0.04</td>\n",
              "      <td>0.28</td>\n",
              "      <td>0.02</td>\n",
              "    </tr>\n",
              "  </tbody>\n",
              "</table>\n",
              "<p>2 rows × 122 columns</p>\n",
              "</div>"
            ],
            "text/plain": [
              "   type  is_Extrovert  is_Sensing  is_Thinking  is_Judging  \\\n",
              "0  INFP             0           0            0           0   \n",
              "1  INFJ             0           0            0           1   \n",
              "\n",
              "                                               posts  \\\n",
              "0  'I do too!  I think this one will be touching ...   \n",
              "1  'we may be known as the most extroverted type ...   \n",
              "\n",
              "                                         clean_posts  compound_sentiment  \\\n",
              "0     think one touching       realised kind turn...            0.992748   \n",
              "1   may known extroverted type introvert also kno...            0.999650   \n",
              "\n",
              "   pos_sentiment  neg_sentiment  ...  VERB_avg ._avg X_avg  word_count  \\\n",
              "0       0.297333       0.366755  ...       7.0   4.0   0.0       23.04   \n",
              "1       0.416000       0.248021  ...       7.0   5.0   0.0       25.00   \n",
              "\n",
              "   unique_words  post_length_var  upper  link_count  ellipses  img_count  \n",
              "0         11.06       164.410000   0.80        0.18      0.02       0.06  \n",
              "1         12.14       175.479025   0.18        0.04      0.28       0.02  \n",
              "\n",
              "[2 rows x 122 columns]"
            ]
          },
          "execution_count": 32,
          "metadata": {},
          "output_type": "execute_result"
        }
      ],
      "source": [
        "personality_data.head(2)"
      ]
    },
    {
      "cell_type": "code",
      "execution_count": 33,
      "metadata": {
        "id": "rnMcUEOJVAOR"
      },
      "outputs": [],
      "source": [
        "# importing dependencies here\n",
        "import numpy as np\n",
        "import pandas as pd\n",
        "import os\n",
        "\n",
        "# feature engineering\n",
        "import re\n",
        "import nltk\n",
        "\n",
        "# vectorization\n",
        "from sklearn.feature_extraction.text import CountVectorizer\n",
        "from sklearn.feature_extraction.text import TfidfVectorizer\n",
        "\n",
        "# performance check\n",
        "import time\n"
      ]
    },
    {
      "cell_type": "code",
      "execution_count": 34,
      "metadata": {
        "id": "2KvRFUfuwluQ"
      },
      "outputs": [],
      "source": [
        "def unique_words(s):\n",
        "    unique = set(s.split(\" \"))\n",
        "    return len(unique) / 50\n",
        "\n",
        "\n",
        "def emojis(post):\n",
        "    # does not include emojis made purely from symbols, only :word:\n",
        "    emoji_count = 0\n",
        "    words = post.split()\n",
        "    for e in words:\n",
        "        if \"http\" not in e:\n",
        "            if e.count(\":\") == 2:\n",
        "                emoji_count += 1\n",
        "    return emoji_count / 50\n",
        "\n",
        "\n",
        "def colons(post):\n",
        "    # Includes colons used in emojis\n",
        "    colon_count = 0\n",
        "    words = post.split()\n",
        "    for e in words:\n",
        "        if \"http\" not in e:\n",
        "            colon_count += e.count(\":\")\n",
        "    return colon_count / 50"
      ]
    },
    {
      "cell_type": "code",
      "execution_count": 35,
      "metadata": {
        "colab": {
          "base_uri": "https://localhost:8080/"
        },
        "id": "XcyxUAPXwrnW",
        "outputId": "28777d3a-66c9-4394-dc8a-c4655f79ad64"
      },
      "outputs": [
        {
          "name": "stderr",
          "output_type": "stream",
          "text": [
            "C:\\Users\\Sethu\\AppData\\Local\\Temp\\ipykernel_40268\\1125300314.py:1: PerformanceWarning: DataFrame is highly fragmented.  This is usually the result of calling `frame.insert` many times, which has poor performance.  Consider joining all columns at once using pd.concat(axis=1) instead. To get a de-fragmented frame, use `newframe = frame.copy()`\n",
            "  personality_data[\"qm\"] = personality_data[\"posts\"].apply(lambda s: s.count(\"?\") / 50)\n",
            "C:\\Users\\Sethu\\AppData\\Local\\Temp\\ipykernel_40268\\1125300314.py:2: PerformanceWarning: DataFrame is highly fragmented.  This is usually the result of calling `frame.insert` many times, which has poor performance.  Consider joining all columns at once using pd.concat(axis=1) instead. To get a de-fragmented frame, use `newframe = frame.copy()`\n",
            "  personality_data[\"em\"] = personality_data[\"posts\"].apply(lambda s: s.count(\"!\") / 50)\n",
            "C:\\Users\\Sethu\\AppData\\Local\\Temp\\ipykernel_40268\\1125300314.py:3: PerformanceWarning: DataFrame is highly fragmented.  This is usually the result of calling `frame.insert` many times, which has poor performance.  Consider joining all columns at once using pd.concat(axis=1) instead. To get a de-fragmented frame, use `newframe = frame.copy()`\n",
            "  personality_data[\"colons\"] = personality_data[\"posts\"].apply(colons)\n",
            "C:\\Users\\Sethu\\AppData\\Local\\Temp\\ipykernel_40268\\1125300314.py:4: PerformanceWarning: DataFrame is highly fragmented.  This is usually the result of calling `frame.insert` many times, which has poor performance.  Consider joining all columns at once using pd.concat(axis=1) instead. To get a de-fragmented frame, use `newframe = frame.copy()`\n",
            "  personality_data[\"emojis\"] = personality_data[\"posts\"].apply(emojis)\n"
          ]
        }
      ],
      "source": [
        "personality_data[\"qm\"] = personality_data[\"posts\"].apply(lambda s: s.count(\"?\") / 50)\n",
        "personality_data[\"em\"] = personality_data[\"posts\"].apply(lambda s: s.count(\"!\") / 50)\n",
        "personality_data[\"colons\"] = personality_data[\"posts\"].apply(colons)\n",
        "personality_data[\"emojis\"] = personality_data[\"posts\"].apply(emojis)"
      ]
    },
    {
      "cell_type": "code",
      "execution_count": 36,
      "metadata": {
        "id": "zXvK6gLrwx0x"
      },
      "outputs": [],
      "source": [
        "personality_data[\"word_count\"] = personality_data[\"posts\"].apply(\n",
        "    lambda s: (s.count(\" \") + 1) / 50\n",
        ")\n",
        "personality_data[\"unique_words\"] = personality_data[\"posts\"].apply(unique_words)"
      ]
    },
    {
      "cell_type": "code",
      "execution_count": 37,
      "metadata": {
        "colab": {
          "base_uri": "https://localhost:8080/"
        },
        "id": "_GerE6Nxw2Qm",
        "outputId": "bd0185b8-6856-4c21-8d66-67296462a833"
      },
      "outputs": [
        {
          "name": "stdout",
          "output_type": "stream",
          "text": [
            "Time Taken: 1.084947109222412\n"
          ]
        }
      ],
      "source": [
        "# stats\n",
        "\n",
        "t = time.time()\n",
        "\n",
        "# personality_data[\"avg_word_ct\"] = personality_data[\"word_count\"].apply(lambda s: s / 50)\n",
        "\n",
        "personality_data[\"post_length_var\"] = personality_data[\"posts\"].apply(\n",
        "    lambda x: np.var([len(post.split()) for post in x.split(\"|||\")])\n",
        ")\n",
        "\n",
        "print(f\"Time Taken: {time.time() - t}\")"
      ]
    },
    {
      "cell_type": "code",
      "execution_count": 38,
      "metadata": {
        "id": "c8a9q2LPw9tc"
      },
      "outputs": [],
      "source": [
        "personality_data[\"upper\"] = personality_data[\"posts\"].apply(\n",
        "    lambda x: len([x for x in x.split() if x.isupper()]) / 50\n",
        ")\n",
        "\n",
        "personality_data[\"link_count\"] = personality_data[\"posts\"].apply(\n",
        "    lambda s: s.count(\"http\") / 50\n",
        ")\n",
        "\n",
        "ellipses_count = [\n",
        "    len(re.findall(r\"\\.\\.\\.\\ \", posts)) / 50 for posts in personality_data[\"posts\"]\n",
        "]\n",
        "personality_data[\"ellipses\"] = ellipses_count\n",
        "\n",
        "personality_data[\"img_count\"] = [\n",
        "    len(re.findall(r\"(\\.jpg)|(\\.jpeg)|(\\.gif)|(\\.png)\", post)) / 50\n",
        "    for post in personality_data[\"posts\"]\n",
        "]\n"
      ]
    },
    {
      "cell_type": "code",
      "execution_count": 39,
      "metadata": {
        "colab": {
          "base_uri": "https://localhost:8080/",
          "height": 344
        },
        "id": "svuIrZZ1xPSQ",
        "outputId": "3b9e48d9-6da6-4220-989d-596c4ebd5feb"
      },
      "outputs": [
        {
          "data": {
            "text/html": [
              "<div>\n",
              "<style scoped>\n",
              "    .dataframe tbody tr th:only-of-type {\n",
              "        vertical-align: middle;\n",
              "    }\n",
              "\n",
              "    .dataframe tbody tr th {\n",
              "        vertical-align: top;\n",
              "    }\n",
              "\n",
              "    .dataframe thead th {\n",
              "        text-align: right;\n",
              "    }\n",
              "</style>\n",
              "<table border=\"1\" class=\"dataframe\">\n",
              "  <thead>\n",
              "    <tr style=\"text-align: right;\">\n",
              "      <th></th>\n",
              "      <th>type</th>\n",
              "      <th>is_Extrovert</th>\n",
              "      <th>is_Sensing</th>\n",
              "      <th>is_Thinking</th>\n",
              "      <th>is_Judging</th>\n",
              "      <th>posts</th>\n",
              "      <th>clean_posts</th>\n",
              "      <th>compound_sentiment</th>\n",
              "      <th>pos_sentiment</th>\n",
              "      <th>neg_sentiment</th>\n",
              "      <th>...</th>\n",
              "      <th>unique_words</th>\n",
              "      <th>post_length_var</th>\n",
              "      <th>upper</th>\n",
              "      <th>link_count</th>\n",
              "      <th>ellipses</th>\n",
              "      <th>img_count</th>\n",
              "      <th>qm</th>\n",
              "      <th>em</th>\n",
              "      <th>colons</th>\n",
              "      <th>emojis</th>\n",
              "    </tr>\n",
              "  </thead>\n",
              "  <tbody>\n",
              "    <tr>\n",
              "      <th>0</th>\n",
              "      <td>INFP</td>\n",
              "      <td>0</td>\n",
              "      <td>0</td>\n",
              "      <td>0</td>\n",
              "      <td>0</td>\n",
              "      <td>'I do too!  I think this one will be touching ...</td>\n",
              "      <td>think one touching       realised kind turn...</td>\n",
              "      <td>0.992748</td>\n",
              "      <td>0.297333</td>\n",
              "      <td>0.366755</td>\n",
              "      <td>...</td>\n",
              "      <td>11.06</td>\n",
              "      <td>164.410000</td>\n",
              "      <td>0.80</td>\n",
              "      <td>0.18</td>\n",
              "      <td>0.02</td>\n",
              "      <td>0.06</td>\n",
              "      <td>0.32</td>\n",
              "      <td>0.18</td>\n",
              "      <td>0.04</td>\n",
              "      <td>0.02</td>\n",
              "    </tr>\n",
              "    <tr>\n",
              "      <th>1</th>\n",
              "      <td>INFJ</td>\n",
              "      <td>0</td>\n",
              "      <td>0</td>\n",
              "      <td>0</td>\n",
              "      <td>1</td>\n",
              "      <td>'we may be known as the most extroverted type ...</td>\n",
              "      <td>may known extroverted type introvert also kno...</td>\n",
              "      <td>0.999650</td>\n",
              "      <td>0.416000</td>\n",
              "      <td>0.248021</td>\n",
              "      <td>...</td>\n",
              "      <td>12.14</td>\n",
              "      <td>175.479025</td>\n",
              "      <td>0.18</td>\n",
              "      <td>0.04</td>\n",
              "      <td>0.28</td>\n",
              "      <td>0.02</td>\n",
              "      <td>0.10</td>\n",
              "      <td>0.12</td>\n",
              "      <td>0.26</td>\n",
              "      <td>0.04</td>\n",
              "    </tr>\n",
              "  </tbody>\n",
              "</table>\n",
              "<p>2 rows × 126 columns</p>\n",
              "</div>"
            ],
            "text/plain": [
              "   type  is_Extrovert  is_Sensing  is_Thinking  is_Judging  \\\n",
              "0  INFP             0           0            0           0   \n",
              "1  INFJ             0           0            0           1   \n",
              "\n",
              "                                               posts  \\\n",
              "0  'I do too!  I think this one will be touching ...   \n",
              "1  'we may be known as the most extroverted type ...   \n",
              "\n",
              "                                         clean_posts  compound_sentiment  \\\n",
              "0     think one touching       realised kind turn...            0.992748   \n",
              "1   may known extroverted type introvert also kno...            0.999650   \n",
              "\n",
              "   pos_sentiment  neg_sentiment  ...  unique_words post_length_var upper  \\\n",
              "0       0.297333       0.366755  ...         11.06      164.410000  0.80   \n",
              "1       0.416000       0.248021  ...         12.14      175.479025  0.18   \n",
              "\n",
              "   link_count  ellipses  img_count    qm    em  colons  emojis  \n",
              "0        0.18      0.02       0.06  0.32  0.18    0.04    0.02  \n",
              "1        0.04      0.28       0.02  0.10  0.12    0.26    0.04  \n",
              "\n",
              "[2 rows x 126 columns]"
            ]
          },
          "execution_count": 39,
          "metadata": {},
          "output_type": "execute_result"
        }
      ],
      "source": [
        "personality_data.head(2)"
      ]
    },
    {
      "cell_type": "code",
      "execution_count": 40,
      "metadata": {
        "colab": {
          "base_uri": "https://localhost:8080/"
        },
        "id": "MIDrBCwfxTQL",
        "outputId": "b0d1a8a8-e0c3-4841-cb71-ef069c963e9a"
      },
      "outputs": [
        {
          "name": "stdout",
          "output_type": "stream",
          "text": [
            "(8127, 22)\n",
            "(8127, 4)\n"
          ]
        }
      ],
      "source": [
        "# setting X to clean_posts, compound sentiment score, pos tags and various other counts\n",
        "X = personality_data[\n",
        "    [\n",
        "        \"clean_posts\",\n",
        "        \"compound_sentiment\",\n",
        "        \"ADJ_avg\",\n",
        "        \"ADP_avg\",\n",
        "        \"ADV_avg\",\n",
        "        \"CONJ_avg\",\n",
        "        \"DET_avg\",\n",
        "        \"NOUN_avg\",\n",
        "        \"NUM_avg\",\n",
        "        \"PRT_avg\",\n",
        "        \"PRON_avg\",\n",
        "        \"VERB_avg\",\n",
        "        \"qm\",\n",
        "        \"em\",\n",
        "        \"colons\",\n",
        "        \"emojis\",\n",
        "        \"word_count\",\n",
        "        \"unique_words\",\n",
        "        \"upper\",\n",
        "        \"link_count\",\n",
        "        \"ellipses\",\n",
        "        \"img_count\",\n",
        "    ]\n",
        "]\n",
        "\n",
        "# setting y to four target classes -> is_Extrovert, is_Sensing, is_Thinking, is_Judging\n",
        "y = personality_data.iloc[:, 1:5]\n",
        "\n",
        "# ensuring that X and y row count matches\n",
        "print(X.shape)\n",
        "print(y.shape)"
      ]
    },
    {
      "cell_type": "code",
      "execution_count": 41,
      "metadata": {
        "id": "547Apu0LGvr_"
      },
      "outputs": [],
      "source": [
        "additional_stopwords = [\n",
        "    \"hey\",\n",
        "    \"hello\",\n",
        "    \"briggs\",\n",
        "    \"cat\",\n",
        "    \"car\",\n",
        "    \"mbti\",\n",
        "    \"soup\",\n",
        "    \"tea\",\n",
        "    \"sport\",\n",
        "    \"snow\",\n",
        "    \"christmas\",\n",
        "]"
      ]
    },
    {
      "cell_type": "code",
      "execution_count": 42,
      "metadata": {
        "id": "uo_DHx3CHLIT"
      },
      "outputs": [],
      "source": [
        "# preprocessing steps for selecting best k columns/features from counts & scores and for vectorizing words\n",
        "\n",
        "counts_n_scores = [\n",
        "    \"compound_sentiment\",\n",
        "    \"ADJ_avg\",\n",
        "    \"ADP_avg\",\n",
        "    \"ADV_avg\",\n",
        "    \"CONJ_avg\",\n",
        "    \"DET_avg\",\n",
        "    \"NOUN_avg\",\n",
        "    \"NUM_avg\",\n",
        "    \"PRT_avg\",\n",
        "    \"PRON_avg\",\n",
        "    \"VERB_avg\",\n",
        "    \"qm\",\n",
        "    \"em\",\n",
        "    \"colons\",\n",
        "    \"emojis\",\n",
        "    \"word_count\",\n",
        "    \"unique_words\",\n",
        "    \"upper\",\n",
        "    \"link_count\",\n",
        "    \"ellipses\",\n",
        "    \"img_count\",\n",
        "]\n",
        "\n"
      ]
    },
    {
      "cell_type": "code",
      "execution_count": 43,
      "metadata": {
        "id": "FW26oQL7Hy-s"
      },
      "outputs": [],
      "source": [
        "from sklearn.preprocessing import PolynomialFeatures\n",
        "from sklearn.feature_selection import SelectKBest, f_classif\n",
        "from sklearn.pipeline import make_pipeline\n",
        "from sklearn.compose import ColumnTransformer\n",
        "\n",
        "# for selecting k best features from features other than words\n",
        "best_k_features = make_pipeline(MinMaxScaler(), SelectKBest(f_classif, k=10))\n",
        "\n",
        "# setting up preprocessing for TF-IDF vectorizer\n",
        "preprocesser_tf = ColumnTransformer(\n",
        "    transformers=[\n",
        "        (\n",
        "            \"tfidf\",\n",
        "            TfidfVectorizer(min_df=25, max_df=0.85, stop_words=additional_stopwords),\n",
        "            \"clean_posts\",\n",
        "        ),\n",
        "        (\"selectbest\", best_k_features, counts_n_scores),\n",
        "    ],\n",
        "    remainder=\"passthrough\",\n",
        ")\n",
        "\n",
        "# setting up preprocessing for COUNT vectorizer\n",
        "preprocesser_ct = ColumnTransformer(\n",
        "    transformers=[\n",
        "        (\n",
        "            \"ct_vect\",\n",
        "            CountVectorizer(min_df=25, max_df=0.85, stop_words=additional_stopwords),\n",
        "            \"clean_posts\",\n",
        "        ),\n",
        "        (\"selectbest\", best_k_features, counts_n_scores),\n",
        "    ],\n",
        "    remainder=\"passthrough\",\n",
        ")"
      ]
    },
    {
      "cell_type": "code",
      "execution_count": 44,
      "metadata": {
        "id": "zC04Knj7KNht"
      },
      "outputs": [],
      "source": [
        "# importing dependencies here\n",
        "import numpy as np\n",
        "import pandas as pd\n",
        "import os\n",
        "\n",
        "# visualizations\n",
        "import matplotlib.pyplot as plt\n",
        "\n",
        "# data stratifying and splitting\n",
        "from sklearn.model_selection import StratifiedKFold\n",
        "from sklearn.model_selection import train_test_split\n",
        "\n",
        "# preprocessing\n",
        "from sklearn.feature_extraction.text import TfidfVectorizer\n",
        "from sklearn.feature_extraction.text import CountVectorizer\n",
        "from sklearn.preprocessing import MinMaxScaler\n",
        "from sklearn.pipeline import make_pipeline\n",
        "from sklearn.feature_selection import f_classif\n",
        "from sklearn.feature_selection import SelectKBest\n",
        "from sklearn.compose import ColumnTransformer\n",
        "\n",
        "# class imbalance\n",
        "from imblearn.pipeline import make_pipeline as imb_make_pipeline\n",
        "from imblearn.under_sampling import RandomUnderSampler\n",
        "\n",
        "# algorithms/models\n",
        "from sklearn.linear_model import LogisticRegression\n",
        "from sklearn.linear_model import LogisticRegressionCV\n",
        "from sklearn.svm import LinearSVC, SVC\n",
        "from sklearn.naive_bayes import MultinomialNB\n",
        "from sklearn.ensemble import RandomForestClassifier\n",
        "\n",
        "# model evaluation\n",
        "from imblearn.metrics import classification_report_imbalanced\n",
        "from imblearn.metrics import geometric_mean_score\n",
        "from sklearn.metrics import average_precision_score\n",
        "from sklearn.metrics import roc_auc_score\n",
        "\n",
        "# performance check\n",
        "import time\n",
        "import warnings\n",
        "\n",
        "warnings.filterwarnings(\"ignore\")\n",
        "\n",
        "# sparse to dense\n",
        "from sklearn.base import TransformerMixin\n",
        "\n",
        "\n",
        "class DenseTransformer(TransformerMixin):\n",
        "    def fit(self, X, y=None, **fit_params):\n",
        "        return self\n",
        "\n",
        "    def transform(self, X, y=None, **fit_params):\n",
        "        return X.todense()\n",
        "\n",
        "\n",
        "# saving the model\n",
        "from joblib import dump"
      ]
    },
    {
      "cell_type": "code",
      "execution_count": 45,
      "metadata": {
        "id": "Y0TtAAU0Ik7K"
      },
      "outputs": [],
      "source": [
        "# setting up the personality dictionary for printing scores for each class\n",
        "mbti_type = {\n",
        "    \"is_Extrovert\": \"Extrovert vs Introvert\",\n",
        "    \"is_Sensing\": \"Sensing vs Intuition\",\n",
        "    \"is_Thinking\": \"Thinking vs Feeling\",\n",
        "    \"is_Judging\": \"Judging vs Perceiving\",\n",
        "}\n",
        "\n",
        "# function to build the model for predicting each of the 4 target classes\n",
        "def build_model(model, X, target, vectorizer_name):\n",
        "\n",
        "    for col in target.columns:\n",
        "\n",
        "        print(f\"\\n{mbti_type[col]}\")\n",
        "        target = y[col]\n",
        "\n",
        "        X_train, X_test, y_train, y_test = train_test_split(\n",
        "            X, target, test_size=0.2, random_state=42, stratify=target\n",
        "        )\n",
        "\n",
        "        # model training\n",
        "        model.fit(X_train, y_train)\n",
        "\n",
        "        # y_hat\n",
        "        y_pred = model.predict(X_test)\n",
        "\n",
        "        # y_probability\n",
        "        y_proba = model.predict_proba(X_test)[:, 1]\n",
        "\n",
        "        # precision recall score\n",
        "        average_precision = average_precision_score(y_test, y_proba)\n",
        "\n",
        "        # model evaluation\n",
        "        print(\n",
        "            f\"Geometric Mean Score: {geometric_mean_score(y_test, y_pred, average='weighted'):.2f}\"\n",
        "        )\n",
        "        print(f\"ROC-AUC Score: {roc_auc_score(y_test, y_proba):.2f}\")\n",
        "        print(f\"Average Precision-Recall Score: {average_precision:.2f}\")\n",
        "        print(classification_report_imbalanced(y_test, y_pred))"
      ]
    },
    {
      "cell_type": "code",
      "execution_count": 46,
      "metadata": {
        "colab": {
          "base_uri": "https://localhost:8080/",
          "height": 1000
        },
        "id": "OdHzkGxnIrTx",
        "outputId": "03a65dc6-91c0-4848-b895-36312282c28a"
      },
      "outputs": [
        {
          "name": "stdout",
          "output_type": "stream",
          "text": [
            "\n",
            "Extrovert vs Introvert\n",
            "               coef\n",
            "word               \n",
            "fun        3.400583\n",
            "bored      3.204438\n",
            "family    -2.927696\n",
            "friend     2.896098\n",
            "guy        2.825663\n",
            "debate     2.697770\n",
            "super      2.479450\n",
            "fucking    2.398192\n",
            "world     -2.381388\n",
            "dry       -2.332733\n",
            "likely     2.329705\n",
            "crazy      2.228304\n",
            "kinda      2.204341\n",
            "point      2.204107\n",
            "business   2.198766\n",
            "dream     -2.190921\n",
            "challenge  2.185731\n",
            "term       2.149091\n",
            "home      -2.067492\n",
            "ego        2.062204\n",
            "without   -2.061112\n",
            "\n",
            "Sensing vs Intuition\n",
            "                coef\n",
            "word                \n",
            "type        3.350585\n",
            "idea       -3.022662\n",
            "love       -2.640139\n",
            "rant        2.366065\n",
            "pretty      2.362991\n",
            "usually     2.267686\n",
            "human      -2.245109\n",
            "woman      -2.013697\n",
            "rave        1.902431\n",
            "crazy       1.767632\n",
            "yet        -1.750841\n",
            "stereotype  1.714959\n",
            "everyone   -1.689446\n",
            "cool        1.680890\n",
            "world      -1.678881\n",
            "hope       -1.639822\n",
            "fun         1.637590\n",
            "perc        1.634666\n",
            "feel       -1.634512\n",
            "fit         1.624926\n",
            "group       1.614534\n",
            "\n",
            "Thinking vs Feeling\n",
            "               coef\n",
            "word               \n",
            "feel      -6.759400\n",
            "female     4.800365\n",
            "love      -4.462313\n",
            "feeling   -3.877384\n",
            "emotion    3.635717\n",
            "song      -3.575091\n",
            "idealist  -3.565771\n",
            "beautiful -3.508416\n",
            "knowledge  3.504177\n",
            "boring     3.454100\n",
            "value     -3.353393\n",
            "others    -3.237290\n",
            "wish      -3.230454\n",
            "fucking    3.184153\n",
            "sad       -3.139175\n",
            "shy       -3.071696\n",
            "hour       3.036206\n",
            "relate    -3.034620\n",
            "world     -2.939364\n",
            "bored      2.935861\n",
            "computer   2.934919\n",
            "\n",
            "Judging vs Perceiving\n",
            "                coef\n",
            "word                \n",
            "plan        3.637305\n",
            "cold        3.325977\n",
            "love       -3.188748\n",
            "dear        3.074301\n",
            "help        2.967590\n",
            "others      2.928705\n",
            "lazy       -2.879118\n",
            "fun        -2.684317\n",
            "intuition   2.670310\n",
            "rare        2.649071\n",
            "fuck       -2.626334\n",
            "hitler      2.591720\n",
            "hsp         2.564701\n",
            "parent     -2.559999\n",
            "jawz        2.547867\n",
            "gift        2.515331\n",
            "sarcasm     2.499628\n",
            "rave        2.451826\n",
            "yes         2.442398\n",
            "impossible -2.409820\n",
            "pressure   -2.403921\n"
          ]
        },
        {
          "data": {
            "image/png": "[encoded data removed]",
            "text/plain": [
              "<Figure size 640x480 with 1 Axes>"
            ]
          },
          "metadata": {},
          "output_type": "display_data"
        },
        {
          "data": {
            "image/png": "[encoded data removed]",
            "text/plain": [
              "<Figure size 640x480 with 1 Axes>"
            ]
          },
          "metadata": {},
          "output_type": "display_data"
        },
        {
          "data": {
            "image/png": "[encoded data removed]",
            "text/plain": [
              "<Figure size 640x480 with 1 Axes>"
            ]
          },
          "metadata": {},
          "output_type": "display_data"
        },
        {
          "data": {
            "image/png": "[encoded data removed]",
            "text/plain": [
              "<Figure size 640x480 with 1 Axes>"
            ]
          },
          "metadata": {},
          "output_type": "display_data"
        }
      ],
      "source": [
        "#Final Model - Logistic Regression with TF-IDF Vectorization\n",
        "#Selecting TF-IDF Logistic Regression as our final model as it returned the highest scores for all metrics - accuracy, precision, recall, roc-auc, avg_precision_recall as compared to other models.\n",
        "\n",
        "\n",
        "for col in y.columns:\n",
        "    \n",
        "    print(f\"\\n{mbti_type[col]}\")\n",
        "\n",
        "    target = y[col]\n",
        "\n",
        "    tfidf_logistic_regression = imb_make_pipeline(\n",
        "        preprocesser_tf,\n",
        "        RandomUnderSampler(),\n",
        "        LogisticRegressionCV()\n",
        "    )\n",
        "    \n",
        "    # training the data on entire dataset\n",
        "    tfidf_logistic_regression.fit(X, target)\n",
        "    \n",
        "    # feature importance   \n",
        "    coef = tfidf_logistic_regression[-1].coef_[0]  \n",
        "    word = tfidf_logistic_regression[0].named_transformers_[\"tfidf\"].get_feature_names_out()\n",
        "    word_list = list(zip(word, coef))         \n",
        "    result = pd.DataFrame(word_list, columns=[\"word\", \"coef\"]).set_index(\"word\")    \n",
        "    result = result.reindex(result.coef.abs().sort_values(ascending=False).index)[0:21]\n",
        "    print(result)\n",
        "    \n",
        "    # plotting feature importance\n",
        "    result[\"coef\"] = result[\"coef\"].apply(lambda x: abs(x))\n",
        "    result.sort_values(\"coef\", inplace=True)\n",
        "    result.plot(kind=\"barh\", color=\"#61BED6\", title=mbti_type[col])\n",
        "  \n",
        "    # saving the model\n",
        "    dump(tfidf_logistic_regression, f\"clf_{col}.joblib\")"
      ]
    }
  ],
  "metadata": {
    "colab": {
      "provenance": []
    },
    "kernelspec": {
      "display_name": "Python 3",
      "name": "python3"
    },
    "language_info": {
      "codemirror_mode": {
        "name": "ipython",
        "version": 3
      },
      "file_extension": ".py",
      "mimetype": "text/x-python",
      "name": "python",
      "nbconvert_exporter": "python",
      "pygments_lexer": "ipython3",
      "version": "3.11.1"
    }
  },
  "nbformat": 4,
  "nbformat_minor": 0
}
